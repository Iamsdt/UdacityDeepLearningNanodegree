{
 "cells": [
  {
   "cell_type": "code",
   "execution_count": 1,
   "metadata": {
    "ExecuteTime": {
     "end_time": "2019-10-26T07:17:10.935376Z",
     "start_time": "2019-10-26T07:17:10.693025Z"
    }
   },
   "outputs": [],
   "source": [
    "import numpy as np\n",
    "\n",
    "final_output = np.array([0.31030254])\n",
    "hidden_output = np.array([0.37118935, 0.4505258])\n",
    "x = np.array([ 0.5,-0.2,0.1])\n",
    "y = np.array([0.4])\n",
    "weights_hidden_to_output = np.array([[-0.21408145], [0.74831647]])"
   ]
  },
  {
   "cell_type": "code",
   "execution_count": 2,
   "metadata": {
    "ExecuteTime": {
     "end_time": "2019-10-26T07:17:10.945350Z",
     "start_time": "2019-10-26T07:17:10.936374Z"
    }
   },
   "outputs": [
    {
     "data": {
      "text/plain": [
       "array([0.08969746])"
      ]
     },
     "execution_count": 2,
     "metadata": {},
     "output_type": "execute_result"
    }
   ],
   "source": [
    "error = y - final_output\n",
    "error"
   ]
  },
  {
   "cell_type": "code",
   "execution_count": 3,
   "metadata": {
    "ExecuteTime": {
     "end_time": "2019-10-26T07:17:10.958315Z",
     "start_time": "2019-10-26T07:17:10.947345Z"
    }
   },
   "outputs": [
    {
     "data": {
      "text/plain": [
       "array([0.01919659])"
      ]
     },
     "execution_count": 3,
     "metadata": {},
     "output_type": "execute_result"
    }
   ],
   "source": [
    "output_error_term = error * final_output * (1 - final_output)\n",
    "output_error_term"
   ]
  },
  {
   "cell_type": "markdown",
   "metadata": {
    "ExecuteTime": {
     "end_time": "2019-10-26T07:03:20.401932Z",
     "start_time": "2019-10-26T07:03:20.398940Z"
    }
   },
   "source": [
    "# Calculate del w for hidden to output"
   ]
  },
  {
   "cell_type": "code",
   "execution_count": 4,
   "metadata": {
    "ExecuteTime": {
     "end_time": "2019-10-26T07:17:10.969287Z",
     "start_time": "2019-10-26T07:17:10.959312Z"
    }
   },
   "outputs": [
    {
     "data": {
      "text/plain": [
       "array([0.00712557, 0.00864856])"
      ]
     },
     "execution_count": 4,
     "metadata": {},
     "output_type": "execute_result"
    }
   ],
   "source": [
    "del_w_hidden_output = output_error_term * hidden_output\n",
    "del_w_hidden_output"
   ]
  },
  {
   "cell_type": "markdown",
   "metadata": {},
   "source": [
    "# Now input to hidden"
   ]
  },
  {
   "cell_type": "markdown",
   "metadata": {
    "ExecuteTime": {
     "end_time": "2019-10-26T07:16:01.474733Z",
     "start_time": "2019-10-26T07:16:01.468727Z"
    }
   },
   "source": [
    "What is the problem in this cell?\n",
    "\n",
    "\n",
    "How can I fix this?"
   ]
  },
  {
   "cell_type": "code",
   "execution_count": 5,
   "metadata": {
    "ExecuteTime": {
     "end_time": "2019-10-26T07:17:11.123900Z",
     "start_time": "2019-10-26T07:17:10.970284Z"
    }
   },
   "outputs": [
    {
     "ename": "ValueError",
     "evalue": "shapes (1,) and (2,1) not aligned: 1 (dim 0) != 2 (dim 0)",
     "output_type": "error",
     "traceback": [
      "\u001b[1;31m---------------------------------------------------------------------------\u001b[0m",
      "\u001b[1;31mValueError\u001b[0m                                Traceback (most recent call last)",
      "\u001b[1;32m<ipython-input-5-3d36520fa5e0>\u001b[0m in \u001b[0;36m<module>\u001b[1;34m\u001b[0m\n\u001b[1;32m----> 1\u001b[1;33m \u001b[0mhidden_error\u001b[0m \u001b[1;33m=\u001b[0m \u001b[0mnp\u001b[0m\u001b[1;33m.\u001b[0m\u001b[0mdot\u001b[0m\u001b[1;33m(\u001b[0m\u001b[0moutput_error_term\u001b[0m\u001b[1;33m,\u001b[0m \u001b[0mweights_hidden_to_output\u001b[0m\u001b[1;33m)\u001b[0m\u001b[1;33m\u001b[0m\u001b[1;33m\u001b[0m\u001b[0m\n\u001b[0m",
      "\u001b[1;31mValueError\u001b[0m: shapes (1,) and (2,1) not aligned: 1 (dim 0) != 2 (dim 0)"
     ]
    }
   ],
   "source": [
    "hidden_error = np.dot(output_error_term, weights_hidden_to_output)"
   ]
  },
  {
   "cell_type": "code",
   "execution_count": null,
   "metadata": {
    "ExecuteTime": {
     "end_time": "2019-10-26T07:17:11.124870Z",
     "start_time": "2019-10-26T07:17:10.708Z"
    }
   },
   "outputs": [],
   "source": [
    "hidden_error_term = hidden_error * hidden_output * (1 - hidden_output)\n",
    "hidden_error_term"
   ]
  },
  {
   "cell_type": "code",
   "execution_count": null,
   "metadata": {
    "ExecuteTime": {
     "end_time": "2019-10-26T07:17:11.125868Z",
     "start_time": "2019-10-26T07:17:10.710Z"
    }
   },
   "outputs": [],
   "source": [
    "del_w_input_hidden = hidden_error_term * x[:, None]\n",
    "del_w_hidden_output"
   ]
  }
 ],
 "metadata": {
  "kernelspec": {
   "display_name": "Python 3",
   "language": "python",
   "name": "python3"
  },
  "language_info": {
   "codemirror_mode": {
    "name": "ipython",
    "version": 3
   },
   "file_extension": ".py",
   "mimetype": "text/x-python",
   "name": "python",
   "nbconvert_exporter": "python",
   "pygments_lexer": "ipython3",
   "version": "3.7.1"
  }
 },
 "nbformat": 4,
 "nbformat_minor": 2
}
