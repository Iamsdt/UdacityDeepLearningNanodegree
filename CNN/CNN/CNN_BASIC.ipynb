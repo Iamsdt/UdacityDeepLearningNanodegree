{
 "cells": [
  {
   "cell_type": "code",
   "execution_count": 1,
   "metadata": {
    "ExecuteTime": {
     "end_time": "2019-11-12T16:24:41.525415Z",
     "start_time": "2019-11-12T16:24:40.643380Z"
    }
   },
   "outputs": [],
   "source": [
    "import torch\n",
    "import numpy as np\n",
    "import torch.nn as nn"
   ]
  },
  {
   "cell_type": "markdown",
   "metadata": {},
   "source": [
    "# Create a dummy input "
   ]
  },
  {
   "cell_type": "code",
   "execution_count": 2,
   "metadata": {
    "ExecuteTime": {
     "end_time": "2019-11-12T16:24:42.675230Z",
     "start_time": "2019-11-12T16:24:42.666254Z"
    }
   },
   "outputs": [
    {
     "data": {
      "text/plain": [
       "array([[[ 1,  2,  3,  2],\n",
       "        [ 3,  4,  5,  2],\n",
       "        [ 6,  7,  8,  2],\n",
       "        [ 8,  9, 10,  2]]])"
      ]
     },
     "execution_count": 2,
     "metadata": {},
     "output_type": "execute_result"
    }
   ],
   "source": [
    "arr = np.array([[[1, 2, 3, 2], [3, 4, 5, 2], [6, 7, 8, 2], [8, 9, 10, 2]]])\n",
    "arr"
   ]
  },
  {
   "cell_type": "code",
   "execution_count": 3,
   "metadata": {
    "ExecuteTime": {
     "end_time": "2019-11-12T16:24:44.850475Z",
     "start_time": "2019-11-12T16:24:44.809097Z"
    }
   },
   "outputs": [],
   "source": [
    "data = torch.Tensor(arr)"
   ]
  },
  {
   "cell_type": "markdown",
   "metadata": {},
   "source": [
    "# add another axis (like: batch size)"
   ]
  },
  {
   "cell_type": "code",
   "execution_count": 4,
   "metadata": {
    "ExecuteTime": {
     "end_time": "2019-11-12T16:24:46.833042Z",
     "start_time": "2019-11-12T16:24:46.826061Z"
    }
   },
   "outputs": [],
   "source": [
    "data = data.unsqueeze(0)"
   ]
  },
  {
   "cell_type": "code",
   "execution_count": 5,
   "metadata": {
    "ExecuteTime": {
     "end_time": "2019-11-12T16:24:49.181310Z",
     "start_time": "2019-11-12T16:24:49.177319Z"
    }
   },
   "outputs": [
    {
     "data": {
      "text/plain": [
       "torch.Size([1, 1, 4, 4])"
      ]
     },
     "execution_count": 5,
     "metadata": {},
     "output_type": "execute_result"
    }
   ],
   "source": [
    "data.shape"
   ]
  },
  {
   "cell_type": "code",
   "execution_count": 6,
   "metadata": {
    "ExecuteTime": {
     "end_time": "2019-11-12T16:24:51.218955Z",
     "start_time": "2019-11-12T16:24:51.162002Z"
    }
   },
   "outputs": [
    {
     "data": {
      "text/plain": [
       "tensor([[[[ 1.,  2.,  3.,  2.],\n",
       "          [ 3.,  4.,  5.,  2.],\n",
       "          [ 6.,  7.,  8.,  2.],\n",
       "          [ 8.,  9., 10.,  2.]]]])"
      ]
     },
     "execution_count": 6,
     "metadata": {},
     "output_type": "execute_result"
    }
   ],
   "source": [
    "data"
   ]
  },
  {
   "cell_type": "markdown",
   "metadata": {},
   "source": [
    "# Create CNN layers"
   ]
  },
  {
   "cell_type": "code",
   "execution_count": 40,
   "metadata": {
    "ExecuteTime": {
     "end_time": "2019-11-12T16:45:27.997746Z",
     "start_time": "2019-11-12T16:45:27.991762Z"
    }
   },
   "outputs": [
    {
     "data": {
      "text/plain": [
       "tensor([[[[ 0.4528,  0.4139,  0.3183],\n",
       "          [-0.5846, -0.6456,  0.8344],\n",
       "          [-2.7704, -1.2457,  0.9371]],\n",
       "\n",
       "         [[-0.2689,  0.0818,  0.8346],\n",
       "          [-2.0722,  0.6829,  1.1539],\n",
       "          [-1.4806, -0.4097,  0.3013]]]], grad_fn=<ThnnConv2DBackward>)"
      ]
     },
     "execution_count": 40,
     "metadata": {},
     "output_type": "execute_result"
    }
   ],
   "source": [
    "cnn = nn.Conv2d(1, 2, kernel_size=2, stride=2, padding=1)\n",
    "output = cnn(data)\n",
    "output"
   ]
  },
  {
   "cell_type": "code",
   "execution_count": 41,
   "metadata": {
    "ExecuteTime": {
     "end_time": "2019-11-12T16:45:30.963915Z",
     "start_time": "2019-11-12T16:45:30.959927Z"
    }
   },
   "outputs": [
    {
     "data": {
      "text/plain": [
       "torch.Size([1, 2, 3, 3])"
      ]
     },
     "execution_count": 41,
     "metadata": {},
     "output_type": "execute_result"
    }
   ],
   "source": [
    "output.shape"
   ]
  },
  {
   "cell_type": "markdown",
   "metadata": {},
   "source": [
    "# Add batch normalization"
   ]
  },
  {
   "cell_type": "code",
   "execution_count": 42,
   "metadata": {
    "ExecuteTime": {
     "end_time": "2019-11-12T16:45:34.203275Z",
     "start_time": "2019-11-12T16:45:34.199284Z"
    }
   },
   "outputs": [],
   "source": [
    "batch = nn.BatchNorm2d(2)"
   ]
  },
  {
   "cell_type": "code",
   "execution_count": 43,
   "metadata": {
    "ExecuteTime": {
     "end_time": "2019-11-12T16:45:35.846233Z",
     "start_time": "2019-11-12T16:45:35.840249Z"
    }
   },
   "outputs": [
    {
     "data": {
      "text/plain": [
       "tensor([[[[ 0.6269,  0.5924,  0.5077],\n",
       "          [-0.2927, -0.3468,  0.9651],\n",
       "          [-2.2301, -0.8787,  1.0561]],\n",
       "\n",
       "         [[-0.1369,  0.2106,  0.9567],\n",
       "          [-1.9239,  0.8064,  1.2731],\n",
       "          [-1.3377, -0.2764,  0.4281]]]], grad_fn=<NativeBatchNormBackward>)"
      ]
     },
     "execution_count": 43,
     "metadata": {},
     "output_type": "execute_result"
    }
   ],
   "source": [
    "out1 = batch(output)\n",
    "out1"
   ]
  },
  {
   "cell_type": "markdown",
   "metadata": {},
   "source": [
    "# Add activation function"
   ]
  },
  {
   "cell_type": "code",
   "execution_count": 44,
   "metadata": {
    "ExecuteTime": {
     "end_time": "2019-11-12T16:45:39.091673Z",
     "start_time": "2019-11-12T16:45:39.088680Z"
    }
   },
   "outputs": [],
   "source": [
    "relu = nn.ReLU()"
   ]
  },
  {
   "cell_type": "code",
   "execution_count": 45,
   "metadata": {
    "ExecuteTime": {
     "end_time": "2019-11-12T16:45:40.885852Z",
     "start_time": "2019-11-12T16:45:40.880888Z"
    }
   },
   "outputs": [
    {
     "data": {
      "text/plain": [
       "tensor([[[[0.6269, 0.5924, 0.5077],\n",
       "          [0.0000, 0.0000, 0.9651],\n",
       "          [0.0000, 0.0000, 1.0561]],\n",
       "\n",
       "         [[0.0000, 0.2106, 0.9567],\n",
       "          [0.0000, 0.8064, 1.2731],\n",
       "          [0.0000, 0.0000, 0.4281]]]], grad_fn=<ReluBackward0>)"
      ]
     },
     "execution_count": 45,
     "metadata": {},
     "output_type": "execute_result"
    }
   ],
   "source": [
    "out2 = relu(out1)\n",
    "out2"
   ]
  },
  {
   "cell_type": "markdown",
   "metadata": {},
   "source": [
    "# Add pooling"
   ]
  },
  {
   "cell_type": "code",
   "execution_count": 46,
   "metadata": {
    "ExecuteTime": {
     "end_time": "2019-11-12T16:45:45.843893Z",
     "start_time": "2019-11-12T16:45:45.839902Z"
    }
   },
   "outputs": [],
   "source": [
    "pool = torch.nn.MaxPool2d(2, 2)"
   ]
  },
  {
   "cell_type": "code",
   "execution_count": 47,
   "metadata": {
    "ExecuteTime": {
     "end_time": "2019-11-12T16:45:47.260222Z",
     "start_time": "2019-11-12T16:45:47.255236Z"
    }
   },
   "outputs": [
    {
     "data": {
      "text/plain": [
       "tensor([[[[0.6269]],\n",
       "\n",
       "         [[0.8064]]]], grad_fn=<MaxPool2DWithIndicesBackward>)"
      ]
     },
     "execution_count": 47,
     "metadata": {},
     "output_type": "execute_result"
    }
   ],
   "source": [
    "out2 = pool(out2)\n",
    "out2"
   ]
  },
  {
   "cell_type": "code",
   "execution_count": 48,
   "metadata": {
    "ExecuteTime": {
     "end_time": "2019-11-12T16:45:50.987189Z",
     "start_time": "2019-11-12T16:45:50.983176Z"
    }
   },
   "outputs": [
    {
     "data": {
      "text/plain": [
       "torch.Size([1, 2, 1, 1])"
      ]
     },
     "execution_count": 48,
     "metadata": {},
     "output_type": "execute_result"
    }
   ],
   "source": [
    "out2.shape"
   ]
  }
 ],
 "metadata": {
  "kernelspec": {
   "display_name": "Python 3",
   "language": "python",
   "name": "python3"
  },
  "language_info": {
   "codemirror_mode": {
    "name": "ipython",
    "version": 3
   },
   "file_extension": ".py",
   "mimetype": "text/x-python",
   "name": "python",
   "nbconvert_exporter": "python",
   "pygments_lexer": "ipython3",
   "version": "3.7.1"
  },
  "toc": {
   "base_numbering": 1,
   "nav_menu": {},
   "number_sections": false,
   "sideBar": false,
   "skip_h1_title": false,
   "title_cell": "Table of Contents",
   "title_sidebar": "Contents",
   "toc_cell": false,
   "toc_position": {},
   "toc_section_display": false,
   "toc_window_display": false
  }
 },
 "nbformat": 4,
 "nbformat_minor": 2
}
