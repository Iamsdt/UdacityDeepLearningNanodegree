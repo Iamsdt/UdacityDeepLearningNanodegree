{
 "cells": [
  {
   "cell_type": "code",
   "execution_count": 1,
   "metadata": {
    "ExecuteTime": {
     "end_time": "2019-10-01T12:51:46.815248Z",
     "start_time": "2019-10-01T12:51:46.450332Z"
    }
   },
   "outputs": [],
   "source": [
    "# Use the numpy library\n",
    "import numpy as np"
   ]
  },
  {
   "cell_type": "code",
   "execution_count": 96,
   "metadata": {
    "ExecuteTime": {
     "end_time": "2019-10-01T13:44:10.716068Z",
     "start_time": "2019-10-01T13:44:10.710925Z"
    }
   },
   "outputs": [],
   "source": [
    "def prepare_inputs(inputs):\n",
    "    input_array = np.array([inputs])\n",
    "    \n",
    "    inputs_minus_min = input_array - input_array.min()\n",
    "    \n",
    "    inputs_div_max = inputs_minus_min / inputs_minus_min.max()\n",
    "    \n",
    "    return input_array, inputs_minus_min, inputs_div_max"
   ]
  },
  {
   "cell_type": "code",
   "execution_count": null,
   "metadata": {},
   "outputs": [],
   "source": []
  },
  {
   "cell_type": "code",
   "execution_count": 85,
   "metadata": {
    "ExecuteTime": {
     "end_time": "2019-10-01T13:38:25.208369Z",
     "start_time": "2019-10-01T13:38:25.203333Z"
    }
   },
   "outputs": [],
   "source": [
    "def multiply_inputs(m1, m2):\n",
    "    \n",
    "    r1, c1 = m1.shape\n",
    "    r2, c2 = m2.shape\n",
    "    \n",
    "    if c1 != r2 and r1 != c2:\n",
    "        return False\n",
    "    else:\n",
    "        if c1 == r2:\n",
    "            return np.matmul(m1, m2)\n",
    "        else:\n",
    "            return np.matmul(m2, m1)"
   ]
  },
  {
   "cell_type": "code",
   "execution_count": 66,
   "metadata": {
    "ExecuteTime": {
     "end_time": "2019-10-01T13:34:06.451930Z",
     "start_time": "2019-10-01T13:34:06.445525Z"
    }
   },
   "outputs": [
    {
     "data": {
      "text/plain": [
       "((3, 3), (3, 2))"
      ]
     },
     "execution_count": 66,
     "metadata": {},
     "output_type": "execute_result"
    }
   ],
   "source": [
    "m1 = np.array([[1, 4], [3, 5], [4, 5]])\n",
    "m2 = np.array([[5, 6, 3], [3, 3,  9], [ 7, 8, 9]])\n",
    "m2.shape, m1.shape"
   ]
  },
  {
   "cell_type": "code",
   "execution_count": 86,
   "metadata": {
    "ExecuteTime": {
     "end_time": "2019-10-01T13:38:27.174785Z",
     "start_time": "2019-10-01T13:38:27.168037Z"
    }
   },
   "outputs": [
    {
     "name": "stdout",
     "output_type": "stream",
     "text": [
      "2\n",
      "3\n"
     ]
    },
    {
     "data": {
      "text/plain": [
       "array([[ 35,  65],\n",
       "       [ 48,  72],\n",
       "       [ 67, 113]])"
      ]
     },
     "execution_count": 86,
     "metadata": {},
     "output_type": "execute_result"
    }
   ],
   "source": [
    "multiply_inputs(m1, m2)"
   ]
  },
  {
   "cell_type": "code",
   "execution_count": 59,
   "metadata": {
    "ExecuteTime": {
     "end_time": "2019-10-01T13:32:41.635399Z",
     "start_time": "2019-10-01T13:32:41.631316Z"
    }
   },
   "outputs": [],
   "source": [
    "def find_mean(values):\n",
    "    return np.mean(values)"
   ]
  },
  {
   "cell_type": "code",
   "execution_count": 97,
   "metadata": {
    "ExecuteTime": {
     "end_time": "2019-10-01T13:44:13.901494Z",
     "start_time": "2019-10-01T13:44:13.892450Z"
    }
   },
   "outputs": [
    {
     "name": "stdout",
     "output_type": "stream",
     "text": [
      "Input as Array: [[-1  2  7]]\n",
      "Input minus min: [[0 3 8]]\n",
      "Input  Array: [[0.    0.375 1.   ]]\n",
      "3\n",
      "4\n",
      "Multiply 1:\n",
      "False\n",
      "3\n",
      "3\n",
      "Multiply 2:\n",
      "[[14]\n",
      " [32]]\n",
      "3\n",
      "1\n",
      "Multiply 3:\n",
      "[[ 9 12 15]]\n",
      "Mean == 2.6666666666666665\n"
     ]
    }
   ],
   "source": [
    "input_array, inputs_minus_min, inputs_div_max = prepare_inputs([-1,2,7])\n",
    "print(\"Input as Array: {}\".format(input_array))\n",
    "print(\"Input minus min: {}\".format(inputs_minus_min))\n",
    "print(\"Input  Array: {}\".format(inputs_div_max))\n",
    "\n",
    "print(\"Multiply 1:\\n{}\".format(multiply_inputs(np.array([[1,2,3],[4,5,6]]), np.array([[1],[2],[3],[4]]))))\n",
    "print(\"Multiply 2:\\n{}\".format(multiply_inputs(np.array([[1,2,3],[4,5,6]]), np.array([[1],[2],[3]]))))\n",
    "print(\"Multiply 3:\\n{}\".format(multiply_inputs(np.array([[1,2,3],[4,5,6]]), np.array([[1,2]]))))\n",
    "\n",
    "print(\"Mean == {}\".format(find_mean([1,3,4])))"
   ]
  }
 ],
 "metadata": {
  "kernelspec": {
   "display_name": "Python 3",
   "language": "python",
   "name": "python3"
  },
  "language_info": {
   "codemirror_mode": {
    "name": "ipython",
    "version": 3
   },
   "file_extension": ".py",
   "mimetype": "text/x-python",
   "name": "python",
   "nbconvert_exporter": "python",
   "pygments_lexer": "ipython3",
   "version": "3.7.3"
  }
 },
 "nbformat": 4,
 "nbformat_minor": 2
}
